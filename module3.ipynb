{
 "cells": [
  {
   "cell_type": "markdown",
   "metadata": {},
   "source": [
    "## Introduction to the NumPy Module"
   ]
  },
  {
   "cell_type": "markdown",
   "metadata": {},
   "source": [
    "Numpy is the essential Python library for math and science. It features multidimensional arrays and performance functions for manipulating them.\n",
    "\n"
   ]
  },
  {
   "cell_type": "markdown",
   "metadata": {},
   "source": [
    "**NumPy Basics CheatSheet**\n",
    "https://s3.amazonaws.com/assets.datacamp.com/blog_assets/Numpy_Python_Cheat_Sheet.pdf\n",
    "    "
   ]
  },
  {
   "cell_type": "markdown",
   "metadata": {},
   "source": [
    "NumPy is all about its **ndarray** object. The elements of an ndarray are all of the **same type** and they are **indexed by a tuple**. "
   ]
  },
  {
   "cell_type": "code",
   "execution_count": 1,
   "metadata": {},
   "outputs": [
    {
     "name": "stdout",
     "output_type": "stream",
     "text": [
      "ara1 \n",
      " [10 25 30 18]\n",
      "ara2 \n",
      " [[1 2 3]\n",
      " [9 8 7]]\n",
      "ara3 \n",
      " [0 1 2 3 4 5 6 7]\n"
     ]
    }
   ],
   "source": [
    "\"\"\"\n",
    "   Some first ndarray examples\n",
    "   NOTE: the # of dimensions is the rank of the array\n",
    "\"\"\"\n",
    "import numpy as np\n",
    "\n",
    "ara1 = np.array([10, 25, 30, 18])     # rank 1 array\n",
    "print('ara1 \\n',ara1)\n",
    "\n",
    "ara2 = np.array([[1,2,3],\n",
    "                 [9,8,7]])            # rank 2 array\n",
    "print('ara2 \\n',ara2)  \n",
    "\n",
    "ara3 = np.arange(8)                  # rank 1 made with arange()\n",
    "print('ara3 \\n',ara3)\n"
   ]
  },
  {
   "cell_type": "code",
   "execution_count": 47,
   "metadata": {},
   "outputs": [
    {
     "name": "stdout",
     "output_type": "stream",
     "text": [
      "[ 0  1  2  3  4  5  6  7  8  9 10 11]\n",
      "\n",
      "[[ 0  1  2]\n",
      " [ 3  4  5]\n",
      " [ 6  7  8]\n",
      " [ 9 10 11]]\n",
      "\n",
      "Element in row 3, column 3, is 8 \n",
      "\n",
      "Shape is (4, 3)\n"
     ]
    }
   ],
   "source": [
    "# arange() and reshape() methods, shape attribute\n",
    "\n",
    "arr = np.arange(12)\n",
    "print(arr)\n",
    "print()\n",
    "\n",
    "arr = arr.reshape(4,3)               # 4 rows and 3 columns\n",
    "print(arr)\n",
    "print('\\nElement in row 3, column 3, is',arr[2,2],'\\n')\n",
    "print('Shape is',arr.shape)          # shape attribute"
   ]
  },
  {
   "cell_type": "code",
   "execution_count": 3,
   "metadata": {},
   "outputs": [
    {
     "name": "stdout",
     "output_type": "stream",
     "text": [
      "[[ 0  1  2  3]\n",
      " [ 4  5  6  7]\n",
      " [ 8  9 10 11]\n",
      " [12 13 14 15]]\n",
      "Array shape is (4, 4)\n"
     ]
    }
   ],
   "source": [
    "# ndarray methods can be \"chained\"\n",
    "\n",
    "arr = np.arange(16).reshape(4,4)     # 4 rows and 4 columns\n",
    "print(arr)\n",
    "print('Array shape is',arr.shape)"
   ]
  },
  {
   "cell_type": "code",
   "execution_count": 38,
   "metadata": {},
   "outputs": [
    {
     "name": "stdout",
     "output_type": "stream",
     "text": [
      "[[ 0  1  2  3  4  5]\n",
      " [ 6  7  8  9 10 11]]\n",
      "\n",
      "[[ 0  6]\n",
      " [ 1  7]\n",
      " [ 2  8]\n",
      " [ 3  9]\n",
      " [ 4 10]\n",
      " [ 5 11]]\n"
     ]
    }
   ],
   "source": [
    "# .T transposes rows and columns shape\n",
    "\n",
    "ara = np.arange(12).reshape(2,6)\n",
    "print(ara)\n",
    "print()\n",
    "print(ara.T)"
   ]
  },
  {
   "cell_type": "markdown",
   "metadata": {},
   "source": [
    "### Commonly used attributes of an ndarray object"
   ]
  },
  {
   "cell_type": "markdown",
   "metadata": {},
   "source": [
    "* **ndim**: number of dimensions (aka **axes**)\n",
    "* **shape**: **tuple** showing **size** of array in each dimension.\n",
    "* **size**: total number of elements, equals **product** of shape() values.\n",
    "* **dtype**: the **type** of the array elements.\n",
    "* **itemsize**: the size **in bytes** of each element."
   ]
  },
  {
   "cell_type": "code",
   "execution_count": 5,
   "metadata": {},
   "outputs": [
    {
     "name": "stdout",
     "output_type": "stream",
     "text": [
      "Array has 2 dimensions\n",
      "Shape of array is (2, 6)\n",
      "Size of array is 12\n",
      "Data type of array is int32\n",
      "Size of each element in bytes is 4\n"
     ]
    }
   ],
   "source": [
    "print('Array has',ara.ndim,'dimensions')\n",
    "print('Shape of array is',ara.shape)\n",
    "print('Size of array is',ara.size)\n",
    "print('Data type of array is',ara.dtype)\n",
    "print('Size of each element in bytes is',ara.itemsize)"
   ]
  },
  {
   "cell_type": "markdown",
   "metadata": {},
   "source": [
    "### The zeros() and ones() functions"
   ]
  },
  {
   "cell_type": "code",
   "execution_count": 9,
   "metadata": {},
   "outputs": [
    {
     "name": "stdout",
     "output_type": "stream",
     "text": [
      "[[0. 0. 0.]\n",
      " [0. 0. 0.]\n",
      " [0. 0. 0.]\n",
      " [0. 0. 0.]]\n",
      "\n",
      "Data type is float64 \n",
      "\n",
      "[[1. 1.]\n",
      " [1. 1.]\n",
      " [1. 1.]]\n"
     ]
    }
   ],
   "source": [
    "# zeros() makes an array assigning 0 to all elements\n",
    "# ones() makes an array assigning 1 to all elements\n",
    "# NOTE that a tuple is used and dtype is float64\n",
    "\n",
    "arr = np.zeros((4,3))\n",
    "print(arr)\n",
    "print('\\nData type is',arr.dtype,'\\n')\n",
    "arr = np.ones((3,2))\n",
    "print(arr)"
   ]
  },
  {
   "cell_type": "markdown",
   "metadata": {},
   "source": [
    "### More about arange()"
   ]
  },
  {
   "cell_type": "code",
   "execution_count": 25,
   "metadata": {},
   "outputs": [
    {
     "name": "stdout",
     "output_type": "stream",
     "text": [
      "[ 2  4  6  8 10 12 14 16 18 20]\n",
      "\n",
      "[1.   1.25 1.5  1.75 2.   2.25 2.5  2.75]\n",
      "\n",
      "[  0   1   4   9  16  25  36  49  64  81 100]\n"
     ]
    }
   ],
   "source": [
    "# arange() works a bit like Python range()\n",
    "\n",
    "a = np.arange(2,21,2)\n",
    "print(a)\n",
    "print()\n",
    "b = np.arange(1,3,0.25)\n",
    "print(b)\n",
    "print()\n",
    "c = np.arange(11) ** 2      # square elements\n",
    "print(c)"
   ]
  },
  {
   "cell_type": "markdown",
   "metadata": {},
   "source": [
    "### More on printing arrays"
   ]
  },
  {
   "cell_type": "code",
   "execution_count": 26,
   "metadata": {},
   "outputs": [
    {
     "name": "stdout",
     "output_type": "stream",
     "text": [
      "[0 1 2 3]\n",
      "[4 5 6 7]\n",
      "\n",
      "0 1 2 3 4 5 6 7 \n",
      "0 1 2 3 4 5 6 7 "
     ]
    }
   ],
   "source": [
    "arr = np.arange(8).reshape(2,4)\n",
    "for r in arr:\n",
    "    print(r)\n",
    "\n",
    "print()\n",
    "    \n",
    "for r in arr:\n",
    "    for c in r:\n",
    "        print(c, end = ' ')\n",
    "print() \n",
    "\n",
    "# the flat attribute also iterates all elements\n",
    "\n",
    "for n in arr.flat:\n",
    "    print(n, end = ' ')"
   ]
  },
  {
   "cell_type": "code",
   "execution_count": 3,
   "metadata": {},
   "outputs": [
    {
     "name": "stdout",
     "output_type": "stream",
     "text": [
      "[   0    1    2 ... 1497 1498 1499]\n",
      "\n",
      "[[   0    1    2 ...   97   98   99]\n",
      " [ 100  101  102 ...  197  198  199]\n",
      " [ 200  201  202 ...  297  298  299]\n",
      " ...\n",
      " [9700 9701 9702 ... 9797 9798 9799]\n",
      " [9800 9801 9802 ... 9897 9898 9899]\n",
      " [9900 9901 9902 ... 9997 9998 9999]]\n"
     ]
    }
   ],
   "source": [
    "# Large arrays print only the 'corners'\n",
    "\n",
    "print(np.arange(1500))\n",
    "print()\n",
    "arr = np.arange(10000).reshape(100,100)\n",
    "print(arr)"
   ]
  },
  {
   "cell_type": "markdown",
   "metadata": {},
   "source": [
    "### Slicing"
   ]
  },
  {
   "cell_type": "code",
   "execution_count": 4,
   "metadata": {},
   "outputs": [
    {
     "name": "stdout",
     "output_type": "stream",
     "text": [
      "[0 1 2 3 4 5 6 7 8]\n",
      "[0 1 2 3]\n",
      "[[0 1 2]\n",
      " [3 4 5]\n",
      " [6 7 8]]\n",
      "Last two elements in 3rd row are [7 8]\n"
     ]
    }
   ],
   "source": [
    "arr = np.arange(9)\n",
    "print(arr)\n",
    "print(arr[:4])      # first 4 elements\n",
    "arr2 = arr.reshape(3,3)\n",
    "print(arr2)\n",
    "print('Last two elements in 3rd row are',arr2[2][1:])"
   ]
  },
  {
   "cell_type": "markdown",
   "metadata": {},
   "source": [
    "### Universal Functions\n",
    "* these operate 'elementwise' on an array and make a new array"
   ]
  },
  {
   "cell_type": "code",
   "execution_count": 5,
   "metadata": {},
   "outputs": [
    {
     "name": "stdout",
     "output_type": "stream",
     "text": [
      "Average of array is 3.0\n",
      "Square roots are...\n",
      " [1.         1.41421356 1.73205081 2.         2.23606798]\n",
      "Product of elements is 120\n"
     ]
    }
   ],
   "source": [
    "arr = np.arange(1,6)\n",
    "print('Average of array is',np.average(arr))\n",
    "roots = np.sqrt(arr)\n",
    "print('Square roots are...\\n',roots)\n",
    "product = np.prod(arr)\n",
    "print('Product of elements is',product)"
   ]
  },
  {
   "cell_type": "markdown",
   "metadata": {},
   "source": [
    "### Histograms\n",
    "* NumPy can generate normalized data with a mean and standard deviation. \n",
    "* matplotlib's **hist** function can plot a histogram with the data.  "
   ]
  },
  {
   "cell_type": "code",
   "execution_count": 6,
   "metadata": {},
   "outputs": [
    {
     "data": {
      "image/png": "[encoded data removed]",
      "text/plain": [
       "<Figure size 432x288 with 1 Axes>"
      ]
     },
     "metadata": {
      "needs_background": "light"
     },
     "output_type": "display_data"
    }
   ],
   "source": [
    "import matplotlib.pyplot as plt\n",
    "\n",
    "mean = 2\n",
    "std_dev = 0.5\n",
    "v = np.random.normal(mean,std_dev,100000)  # n = 100,000 \n",
    "\n",
    "plt.hist(v,bins = 50,density = 1)\n",
    "plt.show()"
   ]
  },
  {
   "cell_type": "code",
   "execution_count": null,
   "metadata": {},
   "outputs": [],
   "source": []
  }
 ],
 "metadata": {
  "kernelspec": {
   "display_name": "Python 3",
   "language": "python",
   "name": "python3"
  },
  "language_info": {
   "codemirror_mode": {
    "name": "ipython",
    "version": 3
   },
   "file_extension": ".py",
   "mimetype": "text/x-python",
   "name": "python",
   "nbconvert_exporter": "python",
   "pygments_lexer": "ipython3",
   "version": "3.7.4"
  }
 },
 "nbformat": 4,
 "nbformat_minor": 2
}
