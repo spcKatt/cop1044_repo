{
 "cells": [
  {
   "cell_type": "markdown",
   "metadata": {},
   "source": [
    "# Lists, Tuples, Dictionaries, Sets, Graphing with matplotlib"
   ]
  },
  {
   "cell_type": "markdown",
   "metadata": {},
   "source": [
    "## Lists"
   ]
  },
  {
   "cell_type": "markdown",
   "metadata": {},
   "source": [
    "A list is collection of values with ONE name.  \n",
    "A list could also be imagined as an object with multiple \"slots\" for values.  \n",
    "The values in a list are INDEXED NUMERICALLY, starting at ZERO."
   ]
  },
  {
   "cell_type": "code",
   "execution_count": 1,
   "metadata": {
    "scrolled": true
   },
   "outputs": [
    {
     "data": {
      "text/plain": [
       "[10, 15, 8, 24, 5]"
      ]
     },
     "execution_count": 1,
     "metadata": {},
     "output_type": "execute_result"
    }
   ],
   "source": [
    "mylist = [10,15,8,24]\n",
    "mylist.append(5)\n",
    "mylist"
   ]
  },
  {
   "cell_type": "code",
   "execution_count": 7,
   "metadata": {},
   "outputs": [
    {
     "data": {
      "text/plain": [
       "[5, 8, 10, 15, 24]"
      ]
     },
     "execution_count": 7,
     "metadata": {},
     "output_type": "execute_result"
    }
   ],
   "source": [
    "mylist.sort()\n",
    "mylist"
   ]
  },
  {
   "cell_type": "code",
   "execution_count": 8,
   "metadata": {},
   "outputs": [
    {
     "data": {
      "text/plain": [
       "[5, 30, 8, 10, 15, 24]"
      ]
     },
     "execution_count": 8,
     "metadata": {},
     "output_type": "execute_result"
    }
   ],
   "source": [
    "mylist.insert(1,30)\n",
    "mylist"
   ]
  },
  {
   "cell_type": "code",
   "execution_count": 10,
   "metadata": {},
   "outputs": [
    {
     "name": "stdout",
     "output_type": "stream",
     "text": [
      "10\n",
      "5 30 8 10 15 24 "
     ]
    }
   ],
   "source": [
    "print(mylist[3])\n",
    "for n in mylist:\n",
    "    print(n, end = ' ')"
   ]
  },
  {
   "cell_type": "code",
   "execution_count": 16,
   "metadata": {},
   "outputs": [
    {
     "name": "stdout",
     "output_type": "stream",
     "text": [
      "5 30 8 10 15 24 "
     ]
    }
   ],
   "source": [
    "for n in range(len(mylist)):\n",
    "    print(mylist[n], end = ' ')"
   ]
  },
  {
   "cell_type": "code",
   "execution_count": 13,
   "metadata": {},
   "outputs": [
    {
     "name": "stdout",
     "output_type": "stream",
     "text": [
      "0 5\t1 30\t2 8\t3 10\t4 15\t5 24\t"
     ]
    }
   ],
   "source": [
    "for index,item in enumerate(mylist):   # enumerate function\n",
    "    print(index,item, end = '\\t')"
   ]
  },
  {
   "cell_type": "code",
   "execution_count": 22,
   "metadata": {},
   "outputs": [
    {
     "name": "stdout",
     "output_type": "stream",
     "text": [
      "[1, 4, 9, 16, 25, 36, 49, 64, 81, 100]\n"
     ]
    },
    {
     "data": {
      "text/plain": [
       "[11, 33, 55, 77, 99]"
      ]
     },
     "execution_count": 22,
     "metadata": {},
     "output_type": "execute_result"
    }
   ],
   "source": [
    "# list comprehension examples\n",
    "\n",
    "squares = [x ** 2 for x in range(1,11)]\n",
    "print(squares)\n",
    "\n",
    "odd_11 = [a for a in range(1,101) if a % 11 == 0 and a % 2 == 1]\n",
    "odd_11"
   ]
  },
  {
   "cell_type": "code",
   "execution_count": 17,
   "metadata": {},
   "outputs": [
    {
     "name": "stdout",
     "output_type": "stream",
     "text": [
      "4\n"
     ]
    }
   ],
   "source": [
    "# tuples are like lists but they are IMMUTABLE\n",
    "mytuple = (1, 3, 4, 2, 8)\n",
    "print(mytuple[2])\n"
   ]
  },
  {
   "cell_type": "markdown",
   "metadata": {},
   "source": [
    "# Dictionaries"
   ]
  },
  {
   "cell_type": "markdown",
   "metadata": {},
   "source": [
    "A dictionary is a data collection in which each element has TWO PARTS: a KEY and a VALUE.  \n",
    "Individual values in a dictionary are accessed by their unique keys."
   ]
  },
  {
   "cell_type": "code",
   "execution_count": 19,
   "metadata": {},
   "outputs": [
    {
     "name": "stdout",
     "output_type": "stream",
     "text": [
      "True\n",
      "President #42 : Bill Clinton\n",
      "President #43 : George W Bush\n",
      "President #44 : Barack Obama\n",
      "President #45 : Donald Trump\n"
     ]
    }
   ],
   "source": [
    "# dictionary of recent presidents\n",
    "prez = {42:'Bill Clinton',43:'George W Bush',44:'Barack Obama',45:'Donald Trump'}\n",
    "prez[44]\n",
    "\n",
    "print(43 in prez)\n",
    "\n",
    "# for looping through dictionary\n",
    "for k in prez:\n",
    "    print('President #{} : {}'.format(k,prez[k]))\n"
   ]
  },
  {
   "cell_type": "code",
   "execution_count": 20,
   "metadata": {},
   "outputs": [
    {
     "name": "stdout",
     "output_type": "stream",
     "text": [
      "President #42 : Bill Clinton\n",
      "President #43 : George W Bush\n",
      "President #44 : Barack Obama\n",
      "President #45 : Donald Trump\n"
     ]
    }
   ],
   "source": [
    "# using items() function\n",
    "for n,p in prez.items():\n",
    "    print('President #{} : {}'.format(n,p))"
   ]
  },
  {
   "cell_type": "code",
   "execution_count": 21,
   "metadata": {},
   "outputs": [
    {
     "name": "stdout",
     "output_type": "stream",
     "text": [
      "42 43 44 45 \n",
      "42 43 44 45 "
     ]
    }
   ],
   "source": [
    "# for looping through just the keys\n",
    "for k in prez:\n",
    "    print(k, end = ' ')\n",
    "\n",
    "print()    \n",
    "    \n",
    "for ky in prez.keys():\n",
    "    print(ky, end = ' ')"
   ]
  },
  {
   "cell_type": "code",
   "execution_count": 23,
   "metadata": {},
   "outputs": [
    {
     "name": "stdout",
     "output_type": "stream",
     "text": [
      "Bill Clinton George W Bush Barack Obama Donald Trump \n",
      "Bill Clinton George W Bush Barack Obama Donald Trump "
     ]
    }
   ],
   "source": [
    "# for looping through just the values\n",
    "for k in prez:\n",
    "    print(prez[k], end = ' ')\n",
    "\n",
    "print()    \n",
    "    \n",
    "for ky in prez.values():\n",
    "    print(ky, end = ' ')"
   ]
  },
  {
   "cell_type": "markdown",
   "metadata": {},
   "source": [
    "## Sets"
   ]
  },
  {
   "cell_type": "markdown",
   "metadata": {},
   "source": [
    "A set is a collection of UNIQUE values.  \n",
    "There are NO DUPLICATES in a set."
   ]
  },
  {
   "cell_type": "code",
   "execution_count": 29,
   "metadata": {},
   "outputs": [
    {
     "name": "stdout",
     "output_type": "stream",
     "text": [
      "{'c', 'b', 'a'}\n",
      "{'The Matrix', 'The Fifth Element', 'Alien'}\n",
      "c b a \n",
      "The Matrix The Fifth Element Alien "
     ]
    }
   ],
   "source": [
    "myset = set('abcbacb')\n",
    "print(myset)           ### no duplicates in a set\n",
    "\n",
    "movies = set(['Alien', 'The Matrix', 'The Fifth Element', 'Alien'])\n",
    "print(movies)\n",
    "\n",
    "for ch in myset:\n",
    "    print(ch, end = ' ')\n",
    "    \n",
    "print()\n",
    "    \n",
    "for film in movies:\n",
    "    print(film, end = ' ')\n"
   ]
  },
  {
   "cell_type": "markdown",
   "metadata": {},
   "source": [
    "## matplotlib"
   ]
  },
  {
   "cell_type": "markdown",
   "metadata": {},
   "source": [
    "Python's matplotlib module is used to plot charts and graphs."
   ]
  },
  {
   "cell_type": "code",
   "execution_count": 16,
   "metadata": {},
   "outputs": [
    {
     "data": {
      "image/png": "[encoded data removed]",
      "text/plain": [
       "<Figure size 432x288 with 1 Axes>"
      ]
     },
     "metadata": {
      "needs_background": "light"
     },
     "output_type": "display_data"
    }
   ],
   "source": [
    "# matplotlib uses lists to specify points on a graph\n",
    "import matplotlib.pyplot as plt\n",
    "\n",
    "x = [-3,-2,-1,0,1,2,3,4]\n",
    "y = [-3,-2,-1,0,1,2,3,4]\n",
    "\n",
    "plt.plot(x, y, 'o')\n",
    "plt.grid(b=True)\n",
    "\n",
    "plt.show()"
   ]
  },
  {
   "cell_type": "code",
   "execution_count": 32,
   "metadata": {},
   "outputs": [
    {
     "data": {
      "image/png": "[encoded data removed]",
      "text/plain": [
       "<Figure size 432x288 with 1 Axes>"
      ]
     },
     "metadata": {},
     "output_type": "display_data"
    }
   ],
   "source": [
    "voters = [43,36,16,5]\n",
    "labs = ['Dems','Reps','Ind','Und']\n",
    "plt.pie(voters,labels = labs)\n",
    "plt.show()"
   ]
  },
  {
   "cell_type": "markdown",
   "metadata": {},
   "source": [
    "### pylab module"
   ]
  },
  {
   "cell_type": "code",
   "execution_count": 6,
   "metadata": {},
   "outputs": [
    {
     "data": {
      "image/png": "[encoded data removed]",
      "text/plain": [
       "<Figure size 432x288 with 1 Axes>"
      ]
     },
     "metadata": {
      "needs_background": "light"
     },
     "output_type": "display_data"
    }
   ],
   "source": [
    "# Charts and graphs can also be created with the pylab module.\n",
    "\n",
    "from pylab import plot, show\n",
    "x = [-2,-1,0,1,2,3]\n",
    "y = [1,3,5,7,9,11]\n",
    "plot(x, y, marker = 'o')\n",
    "show()"
   ]
  },
  {
   "cell_type": "markdown",
   "metadata": {},
   "source": [
    "### Average temp in LA "
   ]
  },
  {
   "cell_type": "code",
   "execution_count": 4,
   "metadata": {},
   "outputs": [
    {
     "data": {
      "image/png": "[encoded data removed]",
      "text/plain": [
       "<Figure size 432x288 with 1 Axes>"
      ]
     },
     "metadata": {
      "needs_background": "light"
     },
     "output_type": "display_data"
    }
   ],
   "source": [
    "# Plot annual temperature in LA\n",
    "\n",
    "la_temp = [20,21,21,23,24,26,29,29,29,26,23,20]\n",
    "plot(la_temp, marker = 'o')\n",
    "show()"
   ]
  },
  {
   "cell_type": "markdown",
   "metadata": {},
   "source": [
    "## Dice Rolling"
   ]
  },
  {
   "cell_type": "code",
   "execution_count": 11,
   "metadata": {},
   "outputs": [
    {
     "name": "stdout",
     "output_type": "stream",
     "text": [
      "(7, 166573)\n",
      "(6, 138821)\n",
      "(8, 138585)\n",
      "(9, 111216)\n",
      "(5, 110782)\n",
      "(10, 84088)\n",
      "(4, 83073)\n",
      "(3, 55668)\n",
      "(11, 55583)\n",
      "(12, 27852)\n",
      "(2, 27759)\n"
     ]
    },
    {
     "data": {
      "image/png": "[encoded data removed]",
      "text/plain": [
       "<Figure size 432x288 with 1 Axes>"
      ]
     },
     "metadata": {
      "needs_background": "light"
     },
     "output_type": "display_data"
    }
   ],
   "source": [
    "# simulate 1 million dice rolls\n",
    "\n",
    "from collections import Counter\n",
    "import random as r\n",
    "from matplotlib import pyplot as plt\n",
    "\n",
    "num = 1000000\n",
    "rolls = [(r.randint(1,6) + r.randint(1,6)) for n in range(num)]\n",
    "cnt = Counter(rolls)\n",
    "freq = cnt.most_common()\n",
    "for f in freq:\n",
    "    print(f)\n",
    "\n",
    "plt.bar(*zip(*freq))\n",
    "plt.title(format(num,',d') + ' Dice Rolls')\n",
    "plt.xlabel('Roll Values')\n",
    "plt.ylabel('Number of Rolls')\n",
    "plt.show()\n",
    "\n"
   ]
  }
 ],
 "metadata": {
  "kernelspec": {
   "display_name": "Python 3",
   "language": "python",
   "name": "python3"
  },
  "language_info": {
   "codemirror_mode": {
    "name": "ipython",
    "version": 3
   },
   "file_extension": ".py",
   "mimetype": "text/x-python",
   "name": "python",
   "nbconvert_exporter": "python",
   "pygments_lexer": "ipython3",
   "version": "3.7.5"
  }
 },
 "nbformat": 4,
 "nbformat_minor": 2
}
