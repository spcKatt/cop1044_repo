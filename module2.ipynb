{
 "cells": [
  {
   "cell_type": "markdown",
   "metadata": {},
   "source": [
    "## Basic Descriptive Statistics"
   ]
  },
  {
   "cell_type": "markdown",
   "metadata": {},
   "source": [
    "### Mean, Median, and Mode"
   ]
  },
  {
   "cell_type": "code",
   "execution_count": 1,
   "metadata": {},
   "outputs": [
    {
     "name": "stdout",
     "output_type": "stream",
     "text": [
      "Mean value of 12 awards is $477.75\n"
     ]
    }
   ],
   "source": [
    "# Calculating the mean of a list\n",
    "\n",
    "import matplotlib\n",
    "\n",
    "def calculate_mean(nums):\n",
    "    s = sum(nums)\n",
    "    N = len(nums)\n",
    "    mean = s/N\n",
    "    return mean\n",
    "\n",
    "awards = [100, 60, 70, 900, 100, 200, 500, 500, 503, 600, 1000, 1200]\n",
    "mean = calculate_mean(awards)\n",
    "N = len(awards)\n",
    "print('Mean value of {} awards is ${}'.format(N, mean))"
   ]
  },
  {
   "cell_type": "code",
   "execution_count": 1,
   "metadata": {},
   "outputs": [
    {
     "name": "stdout",
     "output_type": "stream",
     "text": [
      "[109, 120, 126, 135, 136, 149, 157, 158, 170, 175, 184, 190]\n",
      "Median of 12 values is 153.0\n"
     ]
    }
   ],
   "source": [
    "# Calculating the median of a list\n",
    "\n",
    "import random as r\n",
    "\n",
    "def calculate_median(nums):\n",
    "    N = len(nums)\n",
    "    nums.sort()\n",
    "\n",
    "    if N % 2 == 1:\n",
    "        median = nums[N // 2]\n",
    "    else:\n",
    "        median = (nums[N // 2 - 1] + nums[N // 2]) / 2\n",
    "    return median\n",
    "\n",
    "# generate random integer from 10-25 inclusive for list size\n",
    "N = r.randint(10,25)\n",
    "# generate list of N random ints from 100-200 \n",
    "vals = [r.randint(100,200) for x in range(N)]\n",
    "\n",
    "median = calculate_median(vals)\n",
    "print(vals)\n",
    "print('Median of {0} values is {1}'.format(N, median))"
   ]
  },
  {
   "cell_type": "code",
   "execution_count": 2,
   "metadata": {},
   "outputs": [
    {
     "name": "stdout",
     "output_type": "stream",
     "text": [
      "The median is 151\n"
     ]
    }
   ],
   "source": [
    "# Calculating median using statistics module\n",
    "\n",
    "import statistics as stat\n",
    "\n",
    "med = stat.median(vals)\n",
    "print('The median is',med)"
   ]
  },
  {
   "cell_type": "code",
   "execution_count": 3,
   "metadata": {},
   "outputs": [
    {
     "name": "stdout",
     "output_type": "stream",
     "text": [
      "[(4, 2)]\n",
      "(4, 2)\n",
      "4\n"
     ]
    }
   ],
   "source": [
    "# Calculating the mode of a list\n",
    "\n",
    "mylist = [4, 2, 1, 3, 4]\n",
    "from collections import Counter\n",
    "c = Counter(mylist)\n",
    "mode = c.most_common(1)\n",
    "print(mode)\n",
    "print(mode[0])\n",
    "print(mode[0][0])"
   ]
  },
  {
   "cell_type": "code",
   "execution_count": 26,
   "metadata": {},
   "outputs": [
    {
     "name": "stdout",
     "output_type": "stream",
     "text": [
      "The mode of the list of numbers is: 9\n"
     ]
    }
   ],
   "source": [
    "# Calculating the mode\n",
    "\n",
    "from collections import Counter\n",
    "def calculate_mode(numbers):\n",
    "    c = Counter(numbers)\n",
    "    mode = c.most_common(1)\n",
    "    return mode[0][0]\n",
    "\n",
    "scores = [7,8,9,2,10,9,9,9,9,4,5,6,1,5,6,7,8,6,1,10]\n",
    "mode = calculate_mode(scores)\n",
    "print('The mode of the list of numbers is: {0}'.format(mode))"
   ]
  },
  {
   "cell_type": "code",
   "execution_count": 17,
   "metadata": {},
   "outputs": [
    {
     "name": "stdout",
     "output_type": "stream",
     "text": [
      "The mode(s) of the list of numbers are:\n",
      "5\n",
      "4\n"
     ]
    }
   ],
   "source": [
    "# Calculating the mode when the list of numbers may have multiple modes\n",
    "\n",
    "from collections import Counter\n",
    "def calculate_mode(numbers):\n",
    "    c = Counter(numbers)\n",
    "    numbers_freq = c.most_common()\n",
    "    max_count = numbers_freq[0][1]\n",
    "    modes = []\n",
    "    for num in numbers_freq:\n",
    "        if num[1] == max_count:\n",
    "            modes.append(num[0])\n",
    "    return modes\n",
    "\n",
    "scores = [5, 5, 5, 4, 4, 4, 9, 1, 3]\n",
    "modes = calculate_mode(scores)\n",
    "print('The mode(s) of the list of numbers are:')\n",
    "for mode in modes:\n",
    "    print(mode)\n"
   ]
  },
  {
   "cell_type": "markdown",
   "metadata": {},
   "source": [
    "## Develop and Plot Frequency Table"
   ]
  },
  {
   "cell_type": "code",
   "execution_count": 3,
   "metadata": {},
   "outputs": [
    {
     "name": "stdout",
     "output_type": "stream",
     "text": [
      "Number\tFrequency\n",
      "9\t5\n",
      "6\t3\n",
      "7\t2\n",
      "8\t2\n",
      "10\t2\n",
      "5\t2\n",
      "1\t2\n",
      "2\t1\n",
      "4\t1\n"
     ]
    },
    {
     "data": {
      "image/png": "[encoded data removed]",
      "text/plain": [
       "<Figure size 432x288 with 1 Axes>"
      ]
     },
     "metadata": {
      "needs_background": "light"
     },
     "output_type": "display_data"
    }
   ],
   "source": [
    "# Frequency table for a list of numbers\n",
    "\n",
    "import matplotlib.pyplot as plt\n",
    "from collections import Counter\n",
    "def frequency_table(numbers):\n",
    "    table = Counter(numbers)\n",
    "    freq = table.most_common()\n",
    "    print('Number\\tFrequency')\n",
    "    for number in freq:\n",
    "        print('{0}\\t{1}'.format(number[0], number[1]))\n",
    "    return freq\n",
    "\n",
    "scores = [7, 8, 9, 2, 10, 9, 9, 9, 9, 4, 5, 6, 1, 5, 6, 7, 8, 6, 1, 10]\n",
    "tab = frequency_table(scores)\n",
    "\n",
    "plt.bar(*zip(*tab))\n",
    "plt.title('Frequency Table')\n",
    "plt.show()"
   ]
  },
  {
   "cell_type": "code",
   "execution_count": 34,
   "metadata": {},
   "outputs": [
    {
     "name": "stdout",
     "output_type": "stream",
     "text": [
      "Number\tFrequency\n",
      "1\t2\n",
      "2\t1\n",
      "4\t1\n",
      "5\t2\n",
      "6\t3\n",
      "7\t2\n",
      "8\t2\n",
      "9\t5\n",
      "10\t2\n"
     ]
    }
   ],
   "source": [
    "# Frequency table for a list of numbers\n",
    "# Enhanced to display the table sorted by the numbers\n",
    "\n",
    "from collections import Counter\n",
    "def frequency_table(numbers):\n",
    "    table = Counter(numbers)\n",
    "    numbers_freq = table.most_common()\n",
    "    numbers_freq.sort()\n",
    "\n",
    "    print('Number\\tFrequency')\n",
    "    for number in numbers_freq:\n",
    "        print('{0}\\t{1}'.format(number[0], number[1]))\n",
    "\n",
    "scores = [7,8,9,2,10,9,9,9,9,4,5,6,1,5,6,7,8,6,1,10]\n",
    "frequency_table(scores)"
   ]
  },
  {
   "cell_type": "markdown",
   "metadata": {},
   "source": [
    "### Range, Variance, and Standard Deviation"
   ]
  },
  {
   "cell_type": "code",
   "execution_count": 35,
   "metadata": {},
   "outputs": [
    {
     "name": "stdout",
     "output_type": "stream",
     "text": [
      "Lowest: 60 Highest: 1200 Range: 1140\n"
     ]
    }
   ],
   "source": [
    "# Find the range\n",
    "\n",
    "def find_range(numbers):\n",
    "    lowest = min(numbers)\n",
    "    highest = max(numbers)\n",
    "\n",
    "    r = highest-lowest\n",
    "    return lowest, highest, r\n",
    "\n",
    "nums = [100, 60, 70, 900, 100, 200, 500, 500, 503, 600, 1000, 1200]\n",
    "lowest, highest, r = find_range(nums)\n",
    "print('Lowest: {0} Highest: {1} Range: {2}'.format(lowest, highest, r))\n"
   ]
  },
  {
   "cell_type": "code",
   "execution_count": 36,
   "metadata": {},
   "outputs": [
    {
     "name": "stdout",
     "output_type": "stream",
     "text": [
      "Lowest: 60 Highest: 1200 Range: 1140\n"
     ]
    }
   ],
   "source": [
    "# Find the range by returning a dictionary\n",
    "\n",
    "def find_range(numbers):\n",
    "    lowest = min(numbers)\n",
    "    highest = max(numbers)\n",
    "    r = highest-lowest\n",
    "    return {'lowest':lowest, 'highest':highest, 'range':r}\n",
    "\n",
    "nums = [100, 60, 70, 900, 100, 200, 500, 500, 503, 600, 1000, 1200]\n",
    "ans = find_range(nums)\n",
    "print('Lowest: {0} Highest: {1} Range: {2}'.format(ans['lowest'], ans['highest'], ans['range']))"
   ]
  },
  {
   "cell_type": "code",
   "execution_count": 10,
   "metadata": {},
   "outputs": [
    {
     "name": "stdout",
     "output_type": "stream",
     "text": [
      "The mean is 69.26666666666667\n",
      "[91, 80, 53, 98, 77, 65, 90, 57, 93, 58, 81, 83, 95, 57, 75, 86, 63, 49, 85, 41, 49, 87, 70, 54, 42, 41, 98, 70, 48, 42]\n",
      "The variance of the list of numbers is 349.92888888888893\n",
      "The standard deviation of the list is 18.706386312938395\n"
     ]
    }
   ],
   "source": [
    "# Find the variance and standard deviation of a list of numbers\n",
    "\n",
    "import random as r\n",
    "\n",
    "def calculate_mean(numbers):\n",
    "    s = sum(numbers)\n",
    "    N = len(numbers)\n",
    "    mean = s/N\n",
    "    return mean\n",
    "\n",
    "def find_diffs(numbers):\n",
    "    mean = calculate_mean(numbers)\n",
    "    diffs = []\n",
    "    for num in numbers:\n",
    "        diffs.append(num - mean)\n",
    "    return diffs\n",
    "\n",
    "def calculate_variance(numbers):\n",
    "    diffs = find_diffs(numbers)\n",
    "    squared_diffs = [d ** 2 for d in diffs]\n",
    "    sum_squared_diffs = sum(squared_diffs)\n",
    "    variance = sum_squared_diffs / len(numbers)\n",
    "    return variance\n",
    "\n",
    "# generate list of 30 random ints between 40-100, inclusive\n",
    "nums = [r.randint(40,100) for n in range(30)]\n",
    "print('The mean is',calculate_mean(nums))\n",
    "print(nums)\n",
    "\n",
    "variance = calculate_variance(nums)\n",
    "print('The variance of the list of numbers is {0}'.format(variance))\n",
    "std_dev = variance ** 0.5\n",
    "print('The standard deviation of the list is {0}'.format(std_dev))"
   ]
  },
  {
   "cell_type": "code",
   "execution_count": 6,
   "metadata": {},
   "outputs": [
    {
     "name": "stdout",
     "output_type": "stream",
     "text": [
      "Random data, 100 values\n",
      " [87, 99, 99, 74, 87, 89, 61, 99, 67, 79, 79, 95, 96, 94, 64, 85, 69, 77, 69, 91, 67, 73, 80, 81, 60, 100, 89, 94, 93, 91, 65, 93, 95, 75, 89, 95, 75, 100, 68, 80, 68, 65, 97, 77, 85, 67, 89, 66, 94, 83, 73, 70, 72, 99, 89, 75, 100, 65, 85, 79, 84, 93, 63, 64, 69, 70, 70, 93, 61, 72, 86, 90, 72, 98, 84, 92, 99, 70, 66, 100, 79, 77, 86, 96, 64, 97, 78, 99, 98, 76, 77, 89, 88, 86, 99, 79, 71, 84, 60, 62]\n",
      "\n",
      "Variance is 151.389\n",
      "Standard deviation is 12.304\n",
      "\n",
      "Verifying using statistics module...\n",
      "Variance is 151.389\n",
      "Standard deviation is 12.304\n"
     ]
    }
   ],
   "source": [
    "# Another variance and standard deviation example\n",
    "# Uses several list comprehensions\n",
    "\n",
    "import random as r, statistics as st\n",
    "import matplotlib.pyplot as plt\n",
    "\n",
    "# generate random data (100 random integers from 60-100, inclusive)\n",
    "n = 100\n",
    "data = [r.randint(60,100) for x in range(n)]\n",
    "print('Random data, {} values\\n'.format(n),data)\n",
    "\n",
    "mu = sum(data) / n\n",
    "    \n",
    "diffs = [(x - mu)**2 for x in data]\n",
    "var = sum(diffs) / (n - 1)\n",
    "print('\\nVariance is {:.3f}'.format(var))\n",
    "\n",
    "stdev = var ** 0.5\n",
    "print('Standard deviation is {:.3f}'.format(stdev))\n",
    "\n",
    "print('\\nVerifying using statistics module...')\n",
    "print('Variance is {:.3f}'.format(st.variance(data)))\n",
    "print('Standard deviation is {:.3f}'.format(st.stdev(data)))"
   ]
  },
  {
   "cell_type": "code",
   "execution_count": 41,
   "metadata": {},
   "outputs": [
    {
     "name": "stdout",
     "output_type": "stream",
     "text": [
      "1 4\n",
      "2 5\n",
      "3 6\n"
     ]
    }
   ],
   "source": [
    "# How the zip() function works\n",
    "\n",
    "list_1 = [1, 2, 3]\n",
    "list_2 = [4, 5, 6]\n",
    "for x,y in zip(list_1,list_2):\n",
    "    print(x, y)\n"
   ]
  },
  {
   "cell_type": "markdown",
   "metadata": {},
   "source": [
    "### Scatter Plot"
   ]
  },
  {
   "cell_type": "code",
   "execution_count": 17,
   "metadata": {},
   "outputs": [
    {
     "data": {
      "image/png": "[encoded data removed]",
      "text/plain": [
       "<Figure size 432x288 with 1 Axes>"
      ]
     },
     "metadata": {
      "needs_background": "light"
     },
     "output_type": "display_data"
    }
   ],
   "source": [
    "# Creating a scatter plot\n",
    "x = [1, 2, 3, 4, 5]\n",
    "y = [2, 5, 3, 4, 6]\n",
    "\n",
    "import matplotlib.pyplot as plt\n",
    "plt.scatter(x, y)\n",
    "plt.show()\n"
   ]
  },
  {
   "cell_type": "code",
   "execution_count": 45,
   "metadata": {},
   "outputs": [
    {
     "name": "stdout",
     "output_type": "stream",
     "text": [
      "Sum of the numbers: 21.0\n"
     ]
    }
   ],
   "source": [
    "# Find the sum of numbers stored in a file\n",
    "\n",
    "def sum_data(filename):\n",
    "    s = 0\n",
    "    with open(filename) as f:\n",
    "        for line in f:\n",
    "            s += float(line)\n",
    "    print('Sum of the numbers: {0}'.format(s))\n",
    "\n",
    "sum_data('mydata.txt')"
   ]
  },
  {
   "cell_type": "code",
   "execution_count": 46,
   "metadata": {},
   "outputs": [
    {
     "name": "stdout",
     "output_type": "stream",
     "text": [
      "Mean: 3.5\n"
     ]
    }
   ],
   "source": [
    "# Calculate the mean of numbers stored in a file\n",
    "\n",
    "def read_data(filename):\n",
    "    numbers = []\n",
    "    with open(filename) as f:\n",
    "        for line in f:\n",
    "            numbers.append(float(line))\n",
    "    return numbers\n",
    "\n",
    "def calculate_mean(numbers):\n",
    "    s = sum(numbers)\n",
    "    N = len(numbers)\n",
    "    mean = s/N\n",
    "    return mean\n",
    "\n",
    "data = read_data('mydata.txt')\n",
    "mean = calculate_mean(data)\n",
    "print('Mean: {0}'.format(mean))"
   ]
  },
  {
   "cell_type": "code",
   "execution_count": 19,
   "metadata": {},
   "outputs": [
    {
     "data": {
      "image/png": "[encoded data removed]",
      "text/plain": [
       "<Figure size 432x288 with 1 Axes>"
      ]
     },
     "metadata": {
      "needs_background": "light"
     },
     "output_type": "display_data"
    }
   ],
   "source": [
    "# Read a CSV file and create a plot\n",
    "\n",
    "import csv\n",
    "import matplotlib.pyplot as plt\n",
    "\n",
    "def scatter_plot(x, y):\n",
    "    plt.scatter(x, y)\n",
    "    plt.xlabel('Number')\n",
    "    plt.ylabel('Square')\n",
    "    plt.show()\n",
    "    \n",
    "def read_csv(filename):\n",
    "    numbers = []\n",
    "    squared = []\n",
    "    with open(filename) as f:\n",
    "        reader = csv.reader(f)\n",
    "        next(reader)\n",
    "        for row in reader:\n",
    "            numbers.append(int(row[0]))\n",
    "            squared.append(int(row[1]))\n",
    "    return numbers, squared\n",
    "\n",
    "numbers, squared = read_csv('numbers.csv')\n",
    "scatter_plot(numbers, squared)"
   ]
  },
  {
   "cell_type": "markdown",
   "metadata": {},
   "source": [
    "### Correlation"
   ]
  },
  {
   "cell_type": "code",
   "execution_count": 20,
   "metadata": {},
   "outputs": [],
   "source": [
    "# Function to calculate linear correlation\n",
    "\n",
    "def find_corr_x_y(x,y):    \n",
    "    n = len(x)\n",
    "    prod = []\n",
    "    for xi,yi in zip(x,y):\n",
    "        prod.append(xi * yi)\n",
    "    sum_prod_x_y = sum(prod)\n",
    "    sum_x = sum(x)\n",
    "    sum_y = sum(y)\n",
    "    squared_sum_x = sum_x ** 2\n",
    "    squared_sum_y = sum_y ** 2\n",
    "    x_square = []\n",
    "    for xi in x:\n",
    "        x_square.append(xi ** 2)\n",
    "    x_square_sum = sum(x_square)\n",
    "    y_square=[]\n",
    "    for yi in y:\n",
    "        y_square.append(yi ** 2)\n",
    "    y_square_sum = sum(y_square)\n",
    "    \n",
    "    # use formula to calculate correlation\n",
    "    numerator = n * sum_prod_x_y - sum_x * sum_y\n",
    "    denominator_term1 = n * x_square_sum - squared_sum_x\n",
    "    denominator_term2 = n * y_square_sum - squared_sum_y\n",
    "    denominator = (denominator_term1*denominator_term2) ** 0.5\n",
    "    correlation = numerator/denominator\n",
    "    \n",
    "    return correlation"
   ]
  },
  {
   "cell_type": "code",
   "execution_count": 18,
   "metadata": {},
   "outputs": [
    {
     "name": "stdout",
     "output_type": "stream",
     "text": [
      "Highest correlation: 0.9605138954331739\n"
     ]
    },
    {
     "data": {
      "image/png": "[encoded data removed]",
      "text/plain": [
       "<Figure size 432x288 with 1 Axes>"
      ]
     },
     "metadata": {
      "needs_background": "light"
     },
     "output_type": "display_data"
    }
   ],
   "source": [
    "# Calculate correlation and create a scatter plot similar to that on Google correlate\n",
    "import matplotlib.pyplot as plt\n",
    "import csv\n",
    "\n",
    "def read_csv(filename):\n",
    "    with open(filename) as f:\n",
    "        reader = csv.reader(f)\n",
    "        next(reader)\n",
    "        summer = []\n",
    "        highest_correlated = []\n",
    "        for row in reader:\n",
    "            summer.append(float(row[1]))\n",
    "            highest_correlated.append(float(row[2]))\n",
    "    return summer, highest_correlated\n",
    "\n",
    "summer, highest_correlated = read_csv('correlate-summer.csv')\n",
    "corr = find_corr_x_y(summer, highest_correlated)\n",
    "print('Highest correlation: {0}'.format(corr))\n",
    "\n",
    "scatter_plot(summer, highest_correlated)"
   ]
  },
  {
   "cell_type": "code",
   "execution_count": 19,
   "metadata": {},
   "outputs": [
    {
     "name": "stdout",
     "output_type": "stream",
     "text": [
      "Correlation coefficient: 0.3183785775683751\n"
     ]
    }
   ],
   "source": [
    "# Correlation Example 1\n",
    "# Find the correlation for high school grades and college admission scores\n",
    "\n",
    "high_school_math = [90, 92, 95, 96, 87, 87, 90, 95, 98, 96]\n",
    "college_admission = [85, 87, 86, 97, 96, 88, 89, 98, 98, 87]\n",
    "corr = find_corr_x_y(high_school_math, college_admission)\n",
    "print('Correlation coefficient: {0}'.format(corr))"
   ]
  },
  {
   "cell_type": "code",
   "execution_count": 20,
   "metadata": {},
   "outputs": [
    {
     "name": "stdout",
     "output_type": "stream",
     "text": [
      "Correlation coefficient: 0.9989633063220916\n"
     ]
    }
   ],
   "source": [
    "# Correlation Example 2\n",
    "# Find the correlation for high school math grades and college admission scores\n",
    "\n",
    "high_school_math = [83, 85, 84, 96, 94, 86, 87, 97, 97, 85]\n",
    "college_admission = [85, 87, 86, 97, 96, 88, 89, 98, 98, 87]\n",
    "corr = find_corr_x_y(high_school_math, college_admission)\n",
    "print('Correlation coefficient: {0}'.format(corr))"
   ]
  },
  {
   "cell_type": "code",
   "execution_count": 4,
   "metadata": {},
   "outputs": [
    {
     "data": {
      "text/plain": [
       "[(1, 3.25), (3.25, 5.5), (5.5, 7.75), (7.75, 11)]"
      ]
     },
     "execution_count": 4,
     "metadata": {},
     "output_type": "execute_result"
    }
   ],
   "source": [
    "# Create classes for grouped frequency table\n",
    "# n is arbitrarily chosen number of classes\n",
    "\n",
    "def create_classes(numbers, n):\n",
    "    low = min(numbers)\n",
    "    high = max(numbers)\n",
    "    width = (high - low)/n   # Width of each class\n",
    "    classes = []\n",
    "    a = low\n",
    "    b = low + width\n",
    "    classes = []\n",
    "    while a < (high-width):\n",
    "        classes.append((a, b)) \n",
    "        a = b\n",
    "        b = a + width\n",
    "    # The last class may be of a size that is less than width\n",
    "    classes.append((a, high+1))\n",
    "    return classes\n",
    "\n",
    "create_classes([7, 8, 9, 2, 10, 9, 9, 9, 9, 4, 5, 6, 1, 5, 6, 7, 8, 6, 1, 10], 4)  # choosing 4 classes"
   ]
  },
  {
   "cell_type": "code",
   "execution_count": 15,
   "metadata": {},
   "outputs": [
    {
     "name": "stdout",
     "output_type": "stream",
     "text": [
      "10.50 - 12.88 \t 4\n",
      "12.88 - 15.25 \t 4\n",
      "15.25 - 17.62 \t 7\n",
      "17.62 - 21.00 \t 10\n"
     ]
    }
   ],
   "source": [
    "# Create a grouped frequency table from a list of numbers\n",
    "\n",
    "def create_classes(numbers, n):\n",
    "    low = min(numbers)\n",
    "    high = max(numbers)\n",
    "    width = (high - low)/n   # Width of each class\n",
    "    classes = []\n",
    "    a = low\n",
    "    b = low + width\n",
    "    classes = []\n",
    "    while a < (high-width):\n",
    "        classes.append((a, b)) \n",
    "        a = b\n",
    "        b = a + width\n",
    "    # The last class may be of a size that is less than width\n",
    "    classes.append((a, high+1))\n",
    "    return classes\n",
    "\n",
    "def classify(numbers, classes):\n",
    "    # Create a list with size = number of classes\n",
    "    count = [0] * len(classes)  # each element is initially zero\n",
    "    for n in numbers:\n",
    "        for index, c in enumerate(classes):\n",
    "            if n >= c[0] and n < c[1]:\n",
    "                count[index] += 1\n",
    "                break\n",
    "    return count    # return list with counts for classes\n",
    "\n",
    "def read_data(filename):\n",
    "    numbers = []\n",
    "    with open(filename) as f:\n",
    "        for line in f:\n",
    "            numbers.append(float(line))\n",
    "    return numbers\n",
    "    \n",
    "import matplotlib.pyplot as plt\n",
    "    \n",
    "# num_classes = int(input('Enter the number of classes: '))\n",
    "num_classes = 4\n",
    "numbers = read_data('marks.txt')\n",
    "    \n",
    "classes = create_classes(numbers, num_classes)\n",
    "count = classify(numbers, classes)\n",
    "\n",
    "for c, cnt in zip(classes, count):\n",
    "    print('{0:.2f} - {1:.2f} \\t {2}'.format(c[0], c[1], cnt))"
   ]
  },
  {
   "cell_type": "markdown",
   "metadata": {},
   "source": [
    "### Percentile"
   ]
  },
  {
   "cell_type": "code",
   "execution_count": 62,
   "metadata": {},
   "outputs": [
    {
     "name": "stdout",
     "output_type": "stream",
     "text": [
      "{'Bob': 94, 'Ann': 70, 'Sue': 64, 'Han': 76, 'Kim': 93, 'Lee': 71, 'Ava': 40, 'Syd': 73, 'Sam': 66, 'Tom': 56}\n",
      "8\n",
      "The percentile score for Kim was 80.00\n"
     ]
    }
   ],
   "source": [
    "# Find percentile performance of student on an exam\n",
    "\n",
    "import random as r, math\n",
    "\n",
    "scores = [r.randint(40,100) for n in range(10)]\n",
    "pupils = ['Bob','Ann','Sue','Han','Kim','Lee','Ava','Syd','Sam','Tom']\n",
    "results = dict(zip(pupils,scores))\n",
    "print(results)\n",
    "pupil = 'Kim'\n",
    "score = results[pupil]\n",
    "sorted_scores = sorted(scores)\n",
    "dex = sorted_scores.index(score)\n",
    "\n",
    "pct = dex / len(scores) * 100\n",
    "print('The percentile score for {} was {:.2f}'.format(pupil,pct))"
   ]
  }
 ],
 "metadata": {
  "kernelspec": {
   "display_name": "Python 3",
   "language": "python",
   "name": "python3"
  },
  "language_info": {
   "codemirror_mode": {
    "name": "ipython",
    "version": 3
   },
   "file_extension": ".py",
   "mimetype": "text/x-python",
   "name": "python",
   "nbconvert_exporter": "python",
   "pygments_lexer": "ipython3",
   "version": "3.7.4"
  }
 },
 "nbformat": 4,
 "nbformat_minor": 1
}
