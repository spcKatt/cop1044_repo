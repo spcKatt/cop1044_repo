{
 "cells": [
  {
   "cell_type": "markdown",
   "id": "59f23953",
   "metadata": {},
   "source": [
    "# __Simple Correlation and Linear Regression__\n",
    "\n",
    "## Using one independent variable to predict the dependent variable\n",
    "\n",
    "* Predicting how a **restaurant bill** relates to **server tips**.\n",
    "* First using the linear model of the **scikit-learn** module.\n",
    "* Then with the **statsmodel** module and Ordinary Least Squares (**OLS**).\n",
    "      \n",
    "    \n"
   ]
  },
  {
   "cell_type": "markdown",
   "id": "97531508-e6de-45be-abed-03277b9641fd",
   "metadata": {},
   "source": [
    "#### Import of pandas, seaborn, and sklearn from linear_model"
   ]
  },
  {
   "cell_type": "code",
   "execution_count": 10,
   "id": "3dc9ebb6",
   "metadata": {},
   "outputs": [],
   "source": [
    "import pandas as pd\n",
    "import seaborn as sns \n",
    "from sklearn import linear_model"
   ]
  },
  {
   "cell_type": "markdown",
   "id": "89876912",
   "metadata": {},
   "source": [
    "#### Load the \"tips\" dataset"
   ]
  },
  {
   "cell_type": "code",
   "execution_count": 11,
   "id": "ac32476f",
   "metadata": {},
   "outputs": [],
   "source": [
    "tips = sns.load_dataset('tips')"
   ]
  },
  {
   "cell_type": "markdown",
   "id": "63fc7d51",
   "metadata": {},
   "source": [
    "#### Tips dataset information:"
   ]
  },
  {
   "cell_type": "code",
   "execution_count": 12,
   "id": "8a07e81a",
   "metadata": {},
   "outputs": [
    {
     "name": "stdout",
     "output_type": "stream",
     "text": [
      "<class 'pandas.core.frame.DataFrame'>\n",
      "RangeIndex: 244 entries, 0 to 243\n",
      "Data columns (total 7 columns):\n",
      " #   Column      Non-Null Count  Dtype   \n",
      "---  ------      --------------  -----   \n",
      " 0   total_bill  244 non-null    float64 \n",
      " 1   tip         244 non-null    float64 \n",
      " 2   sex         244 non-null    category\n",
      " 3   smoker      244 non-null    category\n",
      " 4   day         244 non-null    category\n",
      " 5   time        244 non-null    category\n",
      " 6   size        244 non-null    int64   \n",
      "dtypes: category(4), float64(2), int64(1)\n",
      "memory usage: 7.4 KB\n",
      "None\n"
     ]
    }
   ],
   "source": [
    "print(tips.info())"
   ]
  },
  {
   "cell_type": "markdown",
   "id": "22e94927",
   "metadata": {},
   "source": [
    "#### Number of rows and columns in \"tips\" dataset:"
   ]
  },
  {
   "cell_type": "code",
   "execution_count": 13,
   "id": "49f08797",
   "metadata": {},
   "outputs": [
    {
     "name": "stdout",
     "output_type": "stream",
     "text": [
      "(244, 7)\n"
     ]
    }
   ],
   "source": [
    "print(tips.shape)"
   ]
  },
  {
   "cell_type": "markdown",
   "id": "fa83aad0",
   "metadata": {},
   "source": [
    "#### Head and Tail ends of \"tips\" dataset:"
   ]
  },
  {
   "cell_type": "code",
   "execution_count": 14,
   "id": "8af75e85",
   "metadata": {},
   "outputs": [
    {
     "name": "stdout",
     "output_type": "stream",
     "text": [
      "     total_bill   tip     sex smoker   day    time  size\n",
      "0         16.99  1.01  Female     No   Sun  Dinner     2\n",
      "1         10.34  1.66    Male     No   Sun  Dinner     3\n",
      "2         21.01  3.50    Male     No   Sun  Dinner     3\n",
      "3         23.68  3.31    Male     No   Sun  Dinner     2\n",
      "4         24.59  3.61  Female     No   Sun  Dinner     4\n",
      "..          ...   ...     ...    ...   ...     ...   ...\n",
      "239       29.03  5.92    Male     No   Sat  Dinner     3\n",
      "240       27.18  2.00  Female    Yes   Sat  Dinner     2\n",
      "241       22.67  2.00    Male    Yes   Sat  Dinner     2\n",
      "242       17.82  1.75    Male     No   Sat  Dinner     2\n",
      "243       18.78  3.00  Female     No  Thur  Dinner     2\n",
      "\n",
      "[244 rows x 7 columns]\n"
     ]
    }
   ],
   "source": [
    "print(tips)"
   ]
  },
  {
   "cell_type": "markdown",
   "id": "15459253",
   "metadata": {},
   "source": [
    "#### First 5 rows (head) of \"tips\" dataset:"
   ]
  },
  {
   "cell_type": "code",
   "execution_count": 15,
   "id": "0780d6db",
   "metadata": {},
   "outputs": [
    {
     "name": "stdout",
     "output_type": "stream",
     "text": [
      "   total_bill   tip     sex smoker  day    time  size\n",
      "0       16.99  1.01  Female     No  Sun  Dinner     2\n",
      "1       10.34  1.66    Male     No  Sun  Dinner     3\n",
      "2       21.01  3.50    Male     No  Sun  Dinner     3\n",
      "3       23.68  3.31    Male     No  Sun  Dinner     2\n",
      "4       24.59  3.61  Female     No  Sun  Dinner     4\n"
     ]
    }
   ],
   "source": [
    "print(tips.head())"
   ]
  },
  {
   "cell_type": "markdown",
   "id": "99584dad",
   "metadata": {},
   "source": [
    "#### Last 5 rows (tail) of \"tips\" dataset:"
   ]
  },
  {
   "cell_type": "code",
   "execution_count": 16,
   "id": "2052eede",
   "metadata": {},
   "outputs": [
    {
     "name": "stdout",
     "output_type": "stream",
     "text": [
      "     total_bill   tip     sex smoker   day    time  size\n",
      "239       29.03  5.92    Male     No   Sat  Dinner     3\n",
      "240       27.18  2.00  Female    Yes   Sat  Dinner     2\n",
      "241       22.67  2.00    Male    Yes   Sat  Dinner     2\n",
      "242       17.82  1.75    Male     No   Sat  Dinner     2\n",
      "243       18.78  3.00  Female     No  Thur  Dinner     2\n"
     ]
    }
   ],
   "source": [
    "print(tips.tail())"
   ]
  },
  {
   "cell_type": "markdown",
   "id": "d0db9c1d",
   "metadata": {},
   "source": [
    "#### Independent variable \"total_bill\" added as \"x\":"
   ]
  },
  {
   "cell_type": "code",
   "execution_count": 17,
   "id": "63f1c9c4",
   "metadata": {},
   "outputs": [],
   "source": [
    "X = tips['total_bill'].values.reshape(-1,1)"
   ]
  },
  {
   "cell_type": "markdown",
   "id": "c38640ee",
   "metadata": {},
   "source": [
    "#### Dependent variable \"tip\" added as \"y\":"
   ]
  },
  {
   "cell_type": "code",
   "execution_count": 18,
   "id": "24103553",
   "metadata": {},
   "outputs": [
    {
     "data": {
      "text/plain": [
       "0      1.01\n",
       "1      1.66\n",
       "2      3.50\n",
       "3      3.31\n",
       "4      3.61\n",
       "       ... \n",
       "239    5.92\n",
       "240    2.00\n",
       "241    2.00\n",
       "242    1.75\n",
       "243    3.00\n",
       "Name: tip, Length: 244, dtype: float64"
      ]
     },
     "execution_count": 18,
     "metadata": {},
     "output_type": "execute_result"
    }
   ],
   "source": [
    "y=tips['tip']\n",
    "y"
   ]
  },
  {
   "cell_type": "code",
   "execution_count": 19,
   "id": "ab299609-2378-418c-8d2c-9c5d841ef845",
   "metadata": {},
   "outputs": [
    {
     "data": {
      "text/html": [
       "<div>\n",
       "<style scoped>\n",
       "    .dataframe tbody tr th:only-of-type {\n",
       "        vertical-align: middle;\n",
       "    }\n",
       "\n",
       "    .dataframe tbody tr th {\n",
       "        vertical-align: top;\n",
       "    }\n",
       "\n",
       "    .dataframe thead th {\n",
       "        text-align: right;\n",
       "    }\n",
       "</style>\n",
       "<table border=\"1\" class=\"dataframe\">\n",
       "  <thead>\n",
       "    <tr style=\"text-align: right;\">\n",
       "      <th></th>\n",
       "      <th>total_bill</th>\n",
       "      <th>tip</th>\n",
       "      <th>size</th>\n",
       "    </tr>\n",
       "  </thead>\n",
       "  <tbody>\n",
       "    <tr>\n",
       "      <th>total_bill</th>\n",
       "      <td>1.000000</td>\n",
       "      <td>0.675734</td>\n",
       "      <td>0.598315</td>\n",
       "    </tr>\n",
       "    <tr>\n",
       "      <th>tip</th>\n",
       "      <td>0.675734</td>\n",
       "      <td>1.000000</td>\n",
       "      <td>0.489299</td>\n",
       "    </tr>\n",
       "    <tr>\n",
       "      <th>size</th>\n",
       "      <td>0.598315</td>\n",
       "      <td>0.489299</td>\n",
       "      <td>1.000000</td>\n",
       "    </tr>\n",
       "  </tbody>\n",
       "</table>\n",
       "</div>"
      ],
      "text/plain": [
       "            total_bill       tip      size\n",
       "total_bill    1.000000  0.675734  0.598315\n",
       "tip           0.675734  1.000000  0.489299\n",
       "size          0.598315  0.489299  1.000000"
      ]
     },
     "execution_count": 19,
     "metadata": {},
     "output_type": "execute_result"
    }
   ],
   "source": [
    "# Find Pearson Correlation Coefficient (r)\n",
    "r = tips.corr(method = 'pearson')\n",
    "r"
   ]
  },
  {
   "cell_type": "markdown",
   "id": "f284f6d1-7113-4bdc-b57a-f41999eae08c",
   "metadata": {},
   "source": [
    "#### Pearson Correlation Coefficient as (r) defined:\n",
    "* ± 0.50 < r > ± 1 indicates a strong correlation"
   ]
  },
  {
   "cell_type": "code",
   "execution_count": 20,
   "id": "3731067e",
   "metadata": {},
   "outputs": [
    {
     "name": "stdout",
     "output_type": "stream",
     "text": [
      "            total_bill       tip      size\n",
      "total_bill    1.000000  0.675734  0.598315\n",
      "tip           0.675734  1.000000  0.489299\n",
      "size          0.598315  0.489299  1.000000\n"
     ]
    }
   ],
   "source": [
    "r=tips.corr(method='pearson')\n",
    "print(r)"
   ]
  },
  {
   "cell_type": "markdown",
   "id": "e037531d",
   "metadata": {},
   "source": [
    "#### \n",
    "0.675734 shows strong correlation between the bill and the tip so, we proceed with linear regression. \n",
    "#### Linear regression model of sklearn added as \"lr\": "
   ]
  },
  {
   "cell_type": "code",
   "execution_count": 21,
   "id": "d559b9db-a9b0-4d03-bf6c-01d94b49c06f",
   "metadata": {},
   "outputs": [],
   "source": [
    "from sklearn import linear_model\n",
    "lr = linear_model.LinearRegression()"
   ]
  },
  {
   "cell_type": "markdown",
   "id": "ac297962-0f3e-4248-b850-bb6269443b94",
   "metadata": {},
   "source": [
    "lr=linear_model.LinearRegression()"
   ]
  },
  {
   "cell_type": "code",
   "execution_count": null,
   "id": "2aeb81e6-7b15-429d-b1af-d16506e05fdd",
   "metadata": {},
   "outputs": [],
   "source": [
    "## Regression line equation is **y = mx + b**, where...\n",
    "- y is the **dependent** variable\n",
    "- m is the **slope** of the line\n",
    "- x is the **independent** variable\n",
    "- b is the **Y-intercept**"
   ]
  },
  {
   "cell_type": "markdown",
   "id": "d6f6f797",
   "metadata": {},
   "source": [
    "#### Linear regression equation added to fit data as \"predicted\":"
   ]
  },
  {
   "cell_type": "code",
   "execution_count": 29,
   "id": "82f14cc0-13f1-4131-832c-806c52987c43",
   "metadata": {},
   "outputs": [],
   "source": [
    "predicted = lr.fit(X,y)\n",
    "m = predicted.coef_\n",
    "b = predicted.intercept_"
   ]
  },
  {
   "cell_type": "code",
   "execution_count": 23,
   "id": "629d1ad9",
   "metadata": {},
   "outputs": [],
   "source": [
    "#predicted=lr.fit(X,y)"
   ]
  },
  {
   "cell_type": "code",
   "execution_count": 30,
   "id": "bcf72b2a-54d9-4a51-a1d6-411f07d7e9cb",
   "metadata": {},
   "outputs": [
    {
     "name": "stdout",
     "output_type": "stream",
     "text": [
      "Slope of regression line is [0.10502452]\n",
      "The y-intercept is 0.920269613554674\n",
      "The regression line equation is y = [0.10502452]x + 0.920269613554674\n"
     ]
    }
   ],
   "source": [
    "print(f'Slope of regression line is {m}')\n",
    "print(f'The y-intercept is {b}')\n",
    "print(f'The regression line equation is y = {m}x + {b}')"
   ]
  },
  {
   "cell_type": "markdown",
   "id": "c9f49398",
   "metadata": {},
   "source": [
    "#### Regression line from the results of fit():"
   ]
  },
  {
   "cell_type": "code",
   "execution_count": 25,
   "id": "76d0472d",
   "metadata": {},
   "outputs": [
    {
     "name": "stdout",
     "output_type": "stream",
     "text": [
      "The slope of regression line is[0.10502452]\n",
      "The Y-intercept is 0.920269613554674\n",
      "The regression line equation is : y = [0.10502452]x + 0.920269613554674\n"
     ]
    }
   ],
   "source": [
    "m = predicted.coef_\n",
    "b = predicted.intercept_\n",
    "print(f'The slope of regression line is{m}')\n",
    "print(f'The Y-intercept is {b}')\n",
    "print(f'The regression line equation is : y = {m}x + {b}')"
   ]
  },
  {
   "cell_type": "markdown",
   "id": "3a4f83c5",
   "metadata": {},
   "source": [
    "#### Regression line scatterplot:"
   ]
  },
  {
   "cell_type": "code",
   "execution_count": 26,
   "id": "15d77d68",
   "metadata": {
    "scrolled": true
   },
   "outputs": [
    {
     "ename": "NameError",
     "evalue": "name 'tip' is not defined",
     "output_type": "error",
     "traceback": [
      "\u001b[1;31m---------------------------------------------------------------------------\u001b[0m",
      "\u001b[1;31mNameError\u001b[0m                                 Traceback (most recent call last)",
      "\u001b[1;32m~\\AppData\\Local\\Temp/ipykernel_12204/1458794973.py\u001b[0m in \u001b[0;36m<module>\u001b[1;34m\u001b[0m\n\u001b[0;32m      5\u001b[0m \u001b[0mplt\u001b[0m\u001b[1;33m.\u001b[0m\u001b[0mxlabel\u001b[0m\u001b[1;33m(\u001b[0m\u001b[1;34m'MEAL COST'\u001b[0m\u001b[1;33m)\u001b[0m\u001b[1;33m\u001b[0m\u001b[1;33m\u001b[0m\u001b[0m\n\u001b[0;32m      6\u001b[0m \u001b[0mplt\u001b[0m\u001b[1;33m.\u001b[0m\u001b[0mylabel\u001b[0m\u001b[1;33m(\u001b[0m\u001b[1;34m\"TIP\"\u001b[0m\u001b[1;33m)\u001b[0m\u001b[1;33m\u001b[0m\u001b[1;33m\u001b[0m\u001b[0m\n\u001b[1;32m----> 7\u001b[1;33m \u001b[0mplt\u001b[0m\u001b[1;33m.\u001b[0m\u001b[0mscatter\u001b[0m\u001b[1;33m(\u001b[0m\u001b[0mX\u001b[0m\u001b[1;33m,\u001b[0m\u001b[0my\u001b[0m\u001b[1;33m,\u001b[0m\u001b[0ms\u001b[0m \u001b[1;33m=\u001b[0m \u001b[0mtip\u001b[0m \u001b[1;33m*\u001b[0m \u001b[1;36m2.5\u001b[0m\u001b[1;33m,\u001b[0m  \u001b[0mc\u001b[0m \u001b[1;33m=\u001b[0m \u001b[1;34m\"red\"\u001b[0m\u001b[1;33m,\u001b[0m \u001b[0malpha\u001b[0m \u001b[1;33m=\u001b[0m \u001b[1;36m0.8\u001b[0m\u001b[1;33m)\u001b[0m\u001b[1;33m\u001b[0m\u001b[1;33m\u001b[0m\u001b[0m\n\u001b[0m\u001b[0;32m      8\u001b[0m \u001b[0mplt\u001b[0m\u001b[1;33m.\u001b[0m\u001b[0mplot\u001b[0m\u001b[1;33m(\u001b[0m\u001b[0mX\u001b[0m\u001b[1;33m,\u001b[0m \u001b[0mm\u001b[0m \u001b[1;33m*\u001b[0m \u001b[0mX\u001b[0m \u001b[1;33m+\u001b[0m \u001b[0mb\u001b[0m\u001b[1;33m)\u001b[0m\u001b[1;33m\u001b[0m\u001b[1;33m\u001b[0m\u001b[0m\n\u001b[0;32m      9\u001b[0m \u001b[0mplt\u001b[0m\u001b[1;33m.\u001b[0m\u001b[0mshow\u001b[0m\u001b[1;33m(\u001b[0m\u001b[1;33m)\u001b[0m\u001b[1;33m\u001b[0m\u001b[1;33m\u001b[0m\u001b[0m\n",
      "\u001b[1;31mNameError\u001b[0m: name 'tip' is not defined"
     ]
    },
    {
     "data": {
      "image/png": "[encoded data removed]",
      "text/plain": [
       "<Figure size 432x288 with 1 Axes>"
      ]
     },
     "metadata": {},
     "output_type": "display_data"
    }
   ],
   "source": [
    "import matplotlib.pyplot as plt\n",
    "plt.style.use('dark_background')\n",
    "plt.grid(True)\n",
    "plt.title('Relation of Meal Cost to Tip [in USD]')\n",
    "plt.xlabel('MEAL COST')\n",
    "plt.ylabel(\"TIP\")\n",
    "plt.scatter(X,y,s = tip * 2.5,  c = \"red\", alpha = 0.8)\n",
    "plt.plot(X, m * X + b)\n",
    "plt.show()"
   ]
  },
  {
   "cell_type": "markdown",
   "id": "e2d107f9",
   "metadata": {},
   "source": [
    "#### Predicted tip for a $50.00 meal:"
   ]
  },
  {
   "cell_type": "code",
   "execution_count": 27,
   "id": "915a4d38",
   "metadata": {},
   "outputs": [
    {
     "name": "stdout",
     "output_type": "stream",
     "text": [
      "The predicted tip for a $ 50.00 meal is $6.17\n"
     ]
    }
   ],
   "source": [
    "meal = 50.00\n",
    "tip = 0.105025 * meal + 0.920270\n",
    "print(f'The predicted tip for a ${meal: .2f} meal is ${tip:.2f}')"
   ]
  },
  {
   "cell_type": "markdown",
   "id": "ed891cfc",
   "metadata": {},
   "source": [
    "#### Statsmodel module:\n",
    "* using **Ordinary Least Squares** (**OLS**)."
   ]
  },
  {
   "attachments": {
    "image_2021-06-20_130450.png": {
     "image/png": "[encoded data removed]"
    }
   },
   "cell_type": "markdown",
   "id": "a961c56c",
   "metadata": {},
   "source": [
    "![image_2021-06-20_130450.png](attachment:image_2021-06-20_130450.png)"
   ]
  },
  {
   "cell_type": "markdown",
   "id": "0252867f",
   "metadata": {},
   "source": [
    "#### Import statsmodels API formual as \"smf\":"
   ]
  },
  {
   "cell_type": "code",
   "execution_count": null,
   "id": "5bcc2df3",
   "metadata": {},
   "outputs": [],
   "source": [
    "import statsmodels.formula.api as smf"
   ]
  },
  {
   "cell_type": "markdown",
   "id": "2f61598b",
   "metadata": {},
   "source": [
    "#### Load \"tips\" dataset as \"tips\":"
   ]
  },
  {
   "cell_type": "code",
   "execution_count": null,
   "id": "e5b1c908",
   "metadata": {},
   "outputs": [],
   "source": [
    "tips = sns.load_dataset('tips')"
   ]
  },
  {
   "cell_type": "markdown",
   "id": "133aa6bc",
   "metadata": {},
   "source": [
    "*\n",
    "*\n",
    "*\n",
    "The **OLS** method computes the least squares values.\n",
    "The response variable is left of the tilde and the\n",
    "predictor is to the right of the tilde.\n"
   ]
  },
  {
   "cell_type": "code",
   "execution_count": null,
   "id": "eff665e7",
   "metadata": {},
   "outputs": [],
   "source": [
    "model = smf.ols(formula = 'tip ~ total_bill',data = tips)"
   ]
  },
  {
   "cell_type": "markdown",
   "id": "36248e96",
   "metadata": {},
   "source": [
    "#### Fit the data as \"results\""
   ]
  },
  {
   "cell_type": "code",
   "execution_count": null,
   "id": "92afe5c5",
   "metadata": {},
   "outputs": [],
   "source": [
    "results = model.fit()"
   ]
  },
  {
   "cell_type": "markdown",
   "id": "c910c8d8",
   "metadata": {},
   "source": [
    "#### Summary:"
   ]
  },
  {
   "cell_type": "code",
   "execution_count": null,
   "id": "40db8acc",
   "metadata": {},
   "outputs": [],
   "source": [
    "print(results.summary())"
   ]
  },
  {
   "cell_type": "markdown",
   "id": "1386fc3b",
   "metadata": {},
   "source": [
    "#### Scatterplot of correlation between tip and total bill:"
   ]
  },
  {
   "cell_type": "code",
   "execution_count": null,
   "id": "0b14a31e",
   "metadata": {},
   "outputs": [],
   "source": [
    "plt.style.use('dark_background')\n",
    "sns.lmplot(x='total_bill',y='tip',data=tips)\n",
    "sns.color_palette(\"Spectral\", as_cmap=True)\n",
    "sns.set(font_scale=1.25)\n",
    "plt.xlabel('TOTAL BILL')\n",
    "plt.ylabel('TIP')\n",
    "plt.title('CORRELATION: TOTAL BILL TO TIP [in USD]')"
   ]
  },
  {
   "cell_type": "markdown",
   "id": "cd0ed713",
   "metadata": {},
   "source": [
    "*\n",
    "*\n",
    "*\n",
    "The params attribute yields the details for the equation of the regression line."
   ]
  },
  {
   "cell_type": "code",
   "execution_count": null,
   "id": "5b200f69",
   "metadata": {},
   "outputs": [],
   "source": [
    "print(results.params)"
   ]
  },
  {
   "cell_type": "markdown",
   "id": "28396883",
   "metadata": {},
   "source": [
    "#### Predicted tip for a $50.00 meal using params attribute values:"
   ]
  },
  {
   "cell_type": "code",
   "execution_count": null,
   "id": "14510e23",
   "metadata": {},
   "outputs": [],
   "source": [
    "meal = 50.00\n",
    "tip = 0.105025 * meal + 0.920270\n",
    "print(f'The predicted tip for a ${meal:.2f} meal is ${tip:.2f}')"
   ]
  },
  {
   "cell_type": "markdown",
   "id": "f1f1a2d1",
   "metadata": {},
   "source": [
    "#### Predicted tip for a $100.00 meal using params attribute values:"
   ]
  },
  {
   "cell_type": "code",
   "execution_count": null,
   "id": "5709aa6f",
   "metadata": {},
   "outputs": [],
   "source": [
    "meal = 100.00\n",
    "tip = 0.105025 * meal + 0.920270\n",
    "print(f'The predicted tip for a ${meal:.2f} meal is ${tip:.2f}')"
   ]
  },
  {
   "cell_type": "code",
   "execution_count": null,
   "id": "4b707383-ee2c-42f7-9f2f-3a061fd62632",
   "metadata": {},
   "outputs": [],
   "source": []
  }
 ],
 "metadata": {
  "kernelspec": {
   "display_name": "Python 3 (ipykernel)",
   "language": "python",
   "name": "python3"
  },
  "language_info": {
   "codemirror_mode": {
    "name": "ipython",
    "version": 3
   },
   "file_extension": ".py",
   "mimetype": "text/x-python",
   "name": "python",
   "nbconvert_exporter": "python",
   "pygments_lexer": "ipython3",
   "version": "3.8.11"
  }
 },
 "nbformat": 4,
 "nbformat_minor": 5
}
